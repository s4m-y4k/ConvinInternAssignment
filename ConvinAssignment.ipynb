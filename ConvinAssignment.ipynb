{
  "nbformat": 4,
  "nbformat_minor": 0,
  "metadata": {
    "colab": {
      "provenance": [],
      "mount_file_id": "1K3_cD_ZGvlVtqz__phpEA_oKxLteaPz2",
      "authorship_tag": "ABX9TyNFJwYVW/39ZHxfYXRl7rkB",
      "include_colab_link": true
    },
    "kernelspec": {
      "name": "python3",
      "display_name": "Python 3"
    },
    "language_info": {
      "name": "python"
    }
  },
  "cells": [
    {
      "cell_type": "markdown",
      "metadata": {
        "id": "view-in-github",
        "colab_type": "text"
      },
      "source": [
        "<a href=\"https://colab.research.google.com/github/s4m-y4k/ConvinInternAssignment/blob/main/ConvinAssignment.ipynb\" target=\"_parent\"><img src=\"https://colab.research.google.com/assets/colab-badge.svg\" alt=\"Open In Colab\"/></a>"
      ]
    },
    {
      "cell_type": "code",
      "source": [
        "pip install django"
      ],
      "metadata": {
        "colab": {
          "base_uri": "https://localhost:8080/"
        },
        "id": "hGkjCSwai2Ah",
        "outputId": "fdfe1ea7-49d0-449d-d90e-998a32038f8e"
      },
      "execution_count": 2,
      "outputs": [
        {
          "output_type": "stream",
          "name": "stdout",
          "text": [
            "Looking in indexes: https://pypi.org/simple, https://us-python.pkg.dev/colab-wheels/public/simple/\n",
            "Collecting django\n",
            "  Downloading Django-4.1.7-py3-none-any.whl (8.1 MB)\n",
            "\u001b[2K     \u001b[90m━━━━━━━━━━━━━━━━━━━━━━━━━━━━━━━━━━━━━━━━\u001b[0m \u001b[32m8.1/8.1 MB\u001b[0m \u001b[31m62.1 MB/s\u001b[0m eta \u001b[36m0:00:00\u001b[0m\n",
            "\u001b[?25hRequirement already satisfied: sqlparse>=0.2.2 in /usr/local/lib/python3.8/dist-packages (from django) (0.4.3)\n",
            "Collecting backports.zoneinfo\n",
            "  Downloading backports.zoneinfo-0.2.1-cp38-cp38-manylinux1_x86_64.whl (74 kB)\n",
            "\u001b[2K     \u001b[90m━━━━━━━━━━━━━━━━━━━━━━━━━━━━━━━━━━━━━━━━\u001b[0m \u001b[32m74.0/74.0 KB\u001b[0m \u001b[31m5.8 MB/s\u001b[0m eta \u001b[36m0:00:00\u001b[0m\n",
            "\u001b[?25hCollecting asgiref<4,>=3.5.2\n",
            "  Downloading asgiref-3.6.0-py3-none-any.whl (23 kB)\n",
            "Installing collected packages: backports.zoneinfo, asgiref, django\n",
            "Successfully installed asgiref-3.6.0 backports.zoneinfo-0.2.1 django-4.1.7\n"
          ]
        }
      ]
    },
    {
      "cell_type": "code",
      "source": [
        "pip install djangorestframework"
      ],
      "metadata": {
        "colab": {
          "base_uri": "https://localhost:8080/"
        },
        "id": "NoPDYQy-uZbT",
        "outputId": "b89cd0c6-5111-4ea0-c9a7-2ce0d16d8f23"
      },
      "execution_count": 10,
      "outputs": [
        {
          "output_type": "stream",
          "name": "stdout",
          "text": [
            "Looking in indexes: https://pypi.org/simple, https://us-python.pkg.dev/colab-wheels/public/simple/\n",
            "Collecting djangorestframework\n",
            "  Downloading djangorestframework-3.14.0-py3-none-any.whl (1.1 MB)\n",
            "\u001b[2K     \u001b[90m━━━━━━━━━━━━━━━━━━━━━━━━━━━━━━━━━━━━━━━━\u001b[0m \u001b[32m1.1/1.1 MB\u001b[0m \u001b[31m17.6 MB/s\u001b[0m eta \u001b[36m0:00:00\u001b[0m\n",
            "\u001b[?25hRequirement already satisfied: django>=3.0 in /usr/local/lib/python3.8/dist-packages (from djangorestframework) (4.1.7)\n",
            "Requirement already satisfied: pytz in /usr/local/lib/python3.8/dist-packages (from djangorestframework) (2022.7.1)\n",
            "Requirement already satisfied: asgiref<4,>=3.5.2 in /usr/local/lib/python3.8/dist-packages (from django>=3.0->djangorestframework) (3.6.0)\n",
            "Requirement already satisfied: sqlparse>=0.2.2 in /usr/local/lib/python3.8/dist-packages (from django>=3.0->djangorestframework) (0.4.3)\n",
            "Requirement already satisfied: backports.zoneinfo in /usr/local/lib/python3.8/dist-packages (from django>=3.0->djangorestframework) (0.2.1)\n",
            "Installing collected packages: djangorestframework\n",
            "Successfully installed djangorestframework-3.14.0\n"
          ]
        }
      ]
    },
    {
      "cell_type": "code",
      "source": [
        "from django.shortcuts import redirect\n",
        "from django.views import View\n",
        "from google.oauth2.credentials import Credentials\n",
        "from google_auth_oauthlib.flow import Flow"
      ],
      "metadata": {
        "id": "P59Yn2MDkqFg"
      },
      "execution_count": 3,
      "outputs": []
    },
    {
      "cell_type": "code",
      "source": [
        "class GoogleCalendarInitView(View):\n",
        "  def get(self, request):\n",
        "    scopes = ['https://www.googleapis.com/auth/calendar.readonly']\n",
        "    credentails = Credentials.from_authorized_user_info(info=None)\n",
        "    flow = Flow.from_client_config(\n",
        "        client_config={\n",
        "            'web': {\n",
        "                    'client_id': 'YOUR_CLIENT_ID',\n",
        "                    'client_secret': 'YOUR_CLIENT_SECRET',\n",
        "                    'redirect_uris': ['http://localhost:8000/rest/v1/calendar/redirect/'],\n",
        "                    'auth_uri': 'https://accounts.google.com/o/oauth2/auth',\n",
        "                    'token_uri': 'https://oauth2.googleapis.com/token',\n",
        "                    'access_type': 'offline',\n",
        "                    'prompt': 'consent'\n",
        "                }\n",
        "            },\n",
        "            scopes=scopes,\n",
        "            redirect_uri='http://localhost:8000/rest/v1/calendar/redirect/'\n",
        "        )\n",
        "    authorization_url, state = flow.authorization_url(access_type='offline')\n",
        "    return redirect(authorization_url)"
      ],
      "metadata": {
        "id": "clCmDZSLk6o3"
      },
      "execution_count": 4,
      "outputs": []
    },
    {
      "cell_type": "code",
      "source": [
        "import os\n",
        "from django.conf import settings\n",
        "\n",
        "os.environ.setdefault('DJANGO_SETTINGS_MODULE', 'Untitled4.settings')\n",
        "settings.configure()"
      ],
      "metadata": {
        "id": "H9Drtg0qv0Uw"
      },
      "execution_count": 13,
      "outputs": []
    },
    {
      "cell_type": "code",
      "source": [
        "from google.oauth2.credentials import Credentials\n",
        "from google_auth_oauthlib.flow import InstalledAppFlow\n",
        "from rest_framework.views import APIView\n",
        "\n",
        "class GoogleCalendarInitView(APIView):\n",
        "    def get(self, request):\n",
        "        flow = InstalledAppFlow.from_client_secrets_file(\n",
        "            '/content/drive/MyDrive/ConvinAssignment/client_secret_678416271905-4uhkqflr21htlh7dav6s20g0titltka6.apps.googleusercontent.com.json',\n",
        "            scopes=['https://www.googleapis.com/auth/calendar.events.readonly']\n",
        "        )\n",
        "        auth_url, _ = flow.authorization_url(prompt='consent')\n",
        "        return HttpResponseRedirect(auth_url)"
      ],
      "metadata": {
        "id": "R-Bsvy3XooEs"
      },
      "execution_count": 14,
      "outputs": []
    },
    {
      "cell_type": "code",
      "source": [
        "from rest_framework.views import APIView\n",
        "from rest_framework.response import Response\n",
        "from google.oauth2.credentials import Credentials\n",
        "from google_auth_oauthlib.flow import Flow\n",
        "\n",
        "class GoogleCalendarRedirectView(APIView):\n",
        "    def get(self, request):\n",
        "        scopes = ['https://www.googleapis.com/auth/calendar.readonly']\n",
        "\n",
        "\n",
        "        credentials = Credentials.from_authorized_user_info(info=None)\n",
        "\n",
        "        flow = Flow.from_client_config(\n",
        "            client_config={\n",
        "                'web': {\n",
        "                    'client_id': 'YOUR_CLIENT_ID',\n",
        "                    'client_secret': 'YOUR_CLIENT_SECRET',\n",
        "                    'redirect_uris': ['http://localhost:8000/rest/v1/calendar/redirect/'],\n",
        "                    'auth_uri': 'https://accounts.google.com/o/oauth2/auth',\n",
        "                    'token_uri': 'https://oauth2.googleapis.com/token',\n",
        "                    'access_type': 'offline',\n",
        "                    'prompt': 'consent'\n",
        "                }\n",
        "            },\n",
        "            scopes=scopes,\n",
        "            redirect_uri='http://localhost:8000/rest/v1/calendar/redirect/'\n",
        "        )\n",
        "        authorization_response = request.build_absolute_uri()\n",
        "        flow.fetch_token(authorization_response=authorization_response)\n",
        "        credentials = flow.credentials\n",
        "        return Response({'message': 'Events retrieved successfully!'})"
      ],
      "metadata": {
        "id": "sSg9v17btpk6"
      },
      "execution_count": 15,
      "outputs": []
    },
    {
      "cell_type": "code",
      "source": [
        "from googleapiclient.discovery import build\n",
        "\n",
        "class GoogleCalendarRedirectView(APIView):\n",
        "    def get(self, request):\n",
        "        flow = InstalledAppFlow.from_client_secrets_file(\n",
        "            '/content/drive/MyDrive/ConvinAssignment/client_secret_678416271905-4uhkqflr21htlh7dav6s20g0titltka6.apps.googleusercontent.com.json',\n",
        "            scopes=['https://www.googleapis.com/auth/calendar.events.readonly']\n",
        "        )\n",
        "        flow.fetch_token(authorization_response=request.build_absolute_uri())\n",
        "        credentials = flow.credentials\n",
        "        service = build('calendar', 'v3', credentials=credentials)\n",
        "        events = service.events().list(calendarId='CalendarID').execute()\n",
        "        return Response(events)"
      ],
      "metadata": {
        "id": "VTiURI4U1Qlu"
      },
      "execution_count": 17,
      "outputs": []
    }
  ]
}